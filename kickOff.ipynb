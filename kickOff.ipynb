{
 "cells": [
  {
   "cell_type": "markdown",
   "metadata": {},
   "source": [
    "# KickOff"
   ]
  },
  {
   "cell_type": "code",
   "execution_count": 2,
   "metadata": {},
   "outputs": [
    {
     "ename": "SyntaxError",
     "evalue": "invalid syntax (<ipython-input-2-578a99b91004>, line 1)",
     "output_type": "error",
     "traceback": [
      "\u001b[0;36m  File \u001b[0;32m\"<ipython-input-2-578a99b91004>\"\u001b[0;36m, line \u001b[0;32m1\u001b[0m\n\u001b[0;31m    | Initiate services\u001b[0m\n\u001b[0m    ^\u001b[0m\n\u001b[0;31mSyntaxError\u001b[0m\u001b[0;31m:\u001b[0m invalid syntax\n"
     ]
    }
   ],
   "source": [
    "# Initiate services\n",
    "## log init\n",
    "## Test connectivity to online providers\n",
    "\n",
    "# Initiate multithreading\n",
    "## Thread 0\n",
    "### Monitoring arbitrage opportunities\n",
    "### refresh database\n",
    "\n",
    "## Thread 1\n",
    "### Detect a wining arbitrage\n",
    "### estimate gas fees\n",
    "\n",
    "## Thread 2\n",
    "### Generate Solidity smart contract\n",
    "### build .sol\n",
    "### Deploy\n"
   ]
  },
  {
   "cell_type": "code",
   "execution_count": 4,
   "metadata": {},
   "outputs": [],
   "source": [
    "import json\n",
    "\n",
    "cachePath = \"./ressources/gasFees.json\"\n",
    "with open(cachePath) as gasF:\n",
    "    data = json.load(gasF)"
   ]
  },
  {
   "cell_type": "code",
   "execution_count": 13,
   "metadata": {},
   "outputs": [],
   "source": [
    "with  open(\"./plop.json\",\"w\") as gasF:\n",
    "    r = requests.get(\"https://ethgasstation.info/api/ethgasAPI.json?\")\n",
    "    json.dump(r.json(),gasF,indent=4)"
   ]
  },
  {
   "cell_type": "code",
   "execution_count": 20,
   "metadata": {},
   "outputs": [
    {
     "data": {
      "text/plain": [
       "1638048472200"
      ]
     },
     "execution_count": 20,
     "metadata": {},
     "output_type": "execute_result"
    }
   ],
   "source": [
    "from datetime import datetime\n",
    "int(datetime.now().timestamp()*1000)"
   ]
  },
  {
   "cell_type": "code",
   "execution_count": 1,
   "metadata": {},
   "outputs": [
    {
     "name": "stdout",
     "output_type": "stream",
     "text": [
      "Initiating GasFees module ...\n"
     ]
    },
    {
     "data": {
      "text/plain": [
       "1210"
      ]
     },
     "execution_count": 1,
     "metadata": {},
     "output_type": "execute_result"
    }
   ],
   "source": [
    "from gasFees import *\n",
    "\n",
    "gasFeesIns = GasFees()\n",
    "\n",
    "gasFeesIns.fast"
   ]
  },
  {
   "cell_type": "code",
   "execution_count": null,
   "metadata": {},
   "outputs": [],
   "source": []
  },
  {
   "cell_type": "code",
   "execution_count": null,
   "metadata": {},
   "outputs": [],
   "source": []
  }
 ],
 "metadata": {
  "interpreter": {
   "hash": "df955ce39d0f31d56d4bb2fe0a613e5326ba60723fd33d8303a3aede8f65715c"
  },
  "kernelspec": {
   "display_name": "Python 3.8.5 64-bit",
   "language": "python",
   "name": "python3"
  },
  "language_info": {
   "codemirror_mode": {
    "name": "ipython",
    "version": 3
   },
   "file_extension": ".py",
   "mimetype": "text/x-python",
   "name": "python",
   "nbconvert_exporter": "python",
   "pygments_lexer": "ipython3",
   "version": "3.8.5"
  },
  "orig_nbformat": 4
 },
 "nbformat": 4,
 "nbformat_minor": 2
}
